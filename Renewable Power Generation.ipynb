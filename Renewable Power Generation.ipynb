{
 "cells": [
  {
   "cell_type": "markdown",
   "id": "c54ca203",
   "metadata": {},
   "source": [
    "# 1. Load Renewable Power generation dataset\n"
   ]
  },
  {
   "cell_type": "code",
   "execution_count": 1,
   "id": "5ebc2a27",
   "metadata": {},
   "outputs": [],
   "source": [
    "import pandas as pd\n",
    "import numpy as np"
   ]
  },
  {
   "cell_type": "code",
   "execution_count": 2,
   "id": "f26ae5e0",
   "metadata": {},
   "outputs": [],
   "source": [
    "top20CountryPowerGeneration =  pd.read_csv('top20CountriesPowerGeneration.csv')"
   ]
  },
  {
   "cell_type": "markdown",
   "id": "fe109d59",
   "metadata": {},
   "source": [
    "# 2. Explore rows of the dataset to understand its structure."
   ]
  },
  {
   "cell_type": "code",
   "execution_count": 3,
   "id": "fe30e118",
   "metadata": {},
   "outputs": [
    {
     "data": {
      "text/html": [
       "<div>\n",
       "<style scoped>\n",
       "    .dataframe tbody tr th:only-of-type {\n",
       "        vertical-align: middle;\n",
       "    }\n",
       "\n",
       "    .dataframe tbody tr th {\n",
       "        vertical-align: top;\n",
       "    }\n",
       "\n",
       "    .dataframe thead th {\n",
       "        text-align: right;\n",
       "    }\n",
       "</style>\n",
       "<table border=\"1\" class=\"dataframe\">\n",
       "  <thead>\n",
       "    <tr style=\"text-align: right;\">\n",
       "      <th></th>\n",
       "      <th>Country</th>\n",
       "      <th>Hydro(TWh)</th>\n",
       "      <th>Biofuel(TWh)</th>\n",
       "      <th>Solar PV (TWh)</th>\n",
       "      <th>Geothermal (TWh)</th>\n",
       "      <th>Total (TWh)</th>\n",
       "    </tr>\n",
       "  </thead>\n",
       "  <tbody>\n",
       "    <tr>\n",
       "      <th>0</th>\n",
       "      <td>China</td>\n",
       "      <td>1189.84</td>\n",
       "      <td>295.02</td>\n",
       "      <td>79.43</td>\n",
       "      <td>0.125</td>\n",
       "      <td>1819.940</td>\n",
       "    </tr>\n",
       "    <tr>\n",
       "      <th>1</th>\n",
       "      <td>USA</td>\n",
       "      <td>315.62</td>\n",
       "      <td>277.91</td>\n",
       "      <td>58.95</td>\n",
       "      <td>18.960</td>\n",
       "      <td>758.619</td>\n",
       "    </tr>\n",
       "    <tr>\n",
       "      <th>2</th>\n",
       "      <td>Brazil</td>\n",
       "      <td>370.90</td>\n",
       "      <td>42.37</td>\n",
       "      <td>52.25</td>\n",
       "      <td>0.000</td>\n",
       "      <td>466.350</td>\n",
       "    </tr>\n",
       "    <tr>\n",
       "      <th>3</th>\n",
       "      <td>Canada</td>\n",
       "      <td>383.48</td>\n",
       "      <td>29.65</td>\n",
       "      <td>7.12</td>\n",
       "      <td>0.000</td>\n",
       "      <td>424.090</td>\n",
       "    </tr>\n",
       "    <tr>\n",
       "      <th>4</th>\n",
       "      <td>India</td>\n",
       "      <td>141.80</td>\n",
       "      <td>51.06</td>\n",
       "      <td>43.76</td>\n",
       "      <td>0.000</td>\n",
       "      <td>262.650</td>\n",
       "    </tr>\n",
       "  </tbody>\n",
       "</table>\n",
       "</div>"
      ],
      "text/plain": [
       "  Country  Hydro(TWh)  Biofuel(TWh)  Solar PV (TWh)  Geothermal (TWh)  \\\n",
       "0   China     1189.84        295.02           79.43             0.125   \n",
       "1     USA      315.62        277.91           58.95            18.960   \n",
       "2  Brazil      370.90         42.37           52.25             0.000   \n",
       "3  Canada      383.48         29.65            7.12             0.000   \n",
       "4   India      141.80         51.06           43.76             0.000   \n",
       "\n",
       "   Total (TWh)  \n",
       "0     1819.940  \n",
       "1      758.619  \n",
       "2      466.350  \n",
       "3      424.090  \n",
       "4      262.650  "
      ]
     },
     "execution_count": 3,
     "metadata": {},
     "output_type": "execute_result"
    }
   ],
   "source": [
    "top20CountryPowerGeneration.head()"
   ]
  },
  {
   "cell_type": "code",
   "execution_count": 4,
   "id": "58154122",
   "metadata": {},
   "outputs": [
    {
     "data": {
      "text/plain": [
       "(20, 6)"
      ]
     },
     "execution_count": 4,
     "metadata": {},
     "output_type": "execute_result"
    }
   ],
   "source": [
    "top20CountryPowerGeneration.shape # to check total number of rows and columns"
   ]
  },
  {
   "cell_type": "code",
   "execution_count": 5,
   "id": "b6fd4579",
   "metadata": {},
   "outputs": [
    {
     "data": {
      "text/plain": [
       "RangeIndex(start=0, stop=20, step=1)"
      ]
     },
     "execution_count": 5,
     "metadata": {},
     "output_type": "execute_result"
    }
   ],
   "source": [
    "top20CountryPowerGeneration.index # atribute provide index of the column"
   ]
  },
  {
   "cell_type": "code",
   "execution_count": 6,
   "id": "702344b4",
   "metadata": {},
   "outputs": [
    {
     "data": {
      "text/plain": [
       "Index(['Country', 'Hydro(TWh)', 'Biofuel(TWh)', 'Solar PV (TWh)',\n",
       "       'Geothermal (TWh)', 'Total (TWh)'],\n",
       "      dtype='object')"
      ]
     },
     "execution_count": 6,
     "metadata": {},
     "output_type": "execute_result"
    }
   ],
   "source": [
    "top20CountryPowerGeneration.columns # shows the name of each column"
   ]
  },
  {
   "cell_type": "code",
   "execution_count": 7,
   "id": "d7d22c89",
   "metadata": {},
   "outputs": [
    {
     "data": {
      "text/plain": [
       "Country              object\n",
       "Hydro(TWh)          float64\n",
       "Biofuel(TWh)        float64\n",
       "Solar PV (TWh)      float64\n",
       "Geothermal (TWh)    float64\n",
       "Total (TWh)         float64\n",
       "dtype: object"
      ]
     },
     "execution_count": 7,
     "metadata": {},
     "output_type": "execute_result"
    }
   ],
   "source": [
    "top20CountryPowerGeneration.dtypes # shows the data-type of each column"
   ]
  },
  {
   "cell_type": "code",
   "execution_count": 8,
   "id": "ffbb4fbc",
   "metadata": {},
   "outputs": [
    {
     "data": {
      "text/plain": [
       "array(['China', 'USA', 'Brazil', 'Canada', 'India', 'Germany', 'Russia',\n",
       "       'Japan', 'France', 'Italy', 'UK', 'Spain', 'Turkey', 'Mexico',\n",
       "       'Australia', 'Indonesia', 'Thailand', 'South Korea', 'Iran',\n",
       "       'Taiwan'], dtype=object)"
      ]
     },
     "execution_count": 8,
     "metadata": {},
     "output_type": "execute_result"
    }
   ],
   "source": [
    "top20CountryPowerGeneration['Country'].unique() # shows unique values only in a single column"
   ]
  },
  {
   "cell_type": "code",
   "execution_count": 9,
   "id": "df9de341",
   "metadata": {},
   "outputs": [
    {
     "data": {
      "text/plain": [
       "Country             20\n",
       "Hydro(TWh)          20\n",
       "Biofuel(TWh)        20\n",
       "Solar PV (TWh)      20\n",
       "Geothermal (TWh)    12\n",
       "Total (TWh)         20\n",
       "dtype: int64"
      ]
     },
     "execution_count": 9,
     "metadata": {},
     "output_type": "execute_result"
    }
   ],
   "source": [
    "top20CountryPowerGeneration.nunique() # shows non unique values in data. It can be applied on a single colums as well on the whole dataframe "
   ]
  },
  {
   "cell_type": "code",
   "execution_count": 10,
   "id": "ed5016e7",
   "metadata": {},
   "outputs": [
    {
     "data": {
      "text/plain": [
       "Country             20\n",
       "Hydro(TWh)          20\n",
       "Biofuel(TWh)        20\n",
       "Solar PV (TWh)      20\n",
       "Geothermal (TWh)    20\n",
       "Total (TWh)         20\n",
       "dtype: int64"
      ]
     },
     "execution_count": 10,
     "metadata": {},
     "output_type": "execute_result"
    }
   ],
   "source": [
    "top20CountryPowerGeneration.count() # showes the total number of non-null values in each column"
   ]
  },
  {
   "cell_type": "code",
   "execution_count": 11,
   "id": "8937e2e7",
   "metadata": {},
   "outputs": [
    {
     "data": {
      "text/plain": [
       "China          1\n",
       "USA            1\n",
       "Iran           1\n",
       "South Korea    1\n",
       "Thailand       1\n",
       "Indonesia      1\n",
       "Australia      1\n",
       "Mexico         1\n",
       "Turkey         1\n",
       "Spain          1\n",
       "UK             1\n",
       "Italy          1\n",
       "France         1\n",
       "Japan          1\n",
       "Russia         1\n",
       "Germany        1\n",
       "India          1\n",
       "Canada         1\n",
       "Brazil         1\n",
       "Taiwan         1\n",
       "Name: Country, dtype: int64"
      ]
     },
     "execution_count": 11,
     "metadata": {},
     "output_type": "execute_result"
    }
   ],
   "source": [
    "top20CountryPowerGeneration['Country'].value_counts() # it shows all the unique values with their count in the columns. It can be applied on a single column only"
   ]
  },
  {
   "cell_type": "code",
   "execution_count": 12,
   "id": "38b42383",
   "metadata": {},
   "outputs": [
    {
     "name": "stdout",
     "output_type": "stream",
     "text": [
      "<class 'pandas.core.frame.DataFrame'>\n",
      "RangeIndex: 20 entries, 0 to 19\n",
      "Data columns (total 6 columns):\n",
      " #   Column            Non-Null Count  Dtype  \n",
      "---  ------            --------------  -----  \n",
      " 0   Country           20 non-null     object \n",
      " 1   Hydro(TWh)        20 non-null     float64\n",
      " 2   Biofuel(TWh)      20 non-null     float64\n",
      " 3   Solar PV (TWh)    20 non-null     float64\n",
      " 4   Geothermal (TWh)  20 non-null     float64\n",
      " 5   Total (TWh)       20 non-null     float64\n",
      "dtypes: float64(5), object(1)\n",
      "memory usage: 1.1+ KB\n"
     ]
    }
   ],
   "source": [
    "top20CountryPowerGeneration.info() # basic info about dataframe"
   ]
  },
  {
   "cell_type": "code",
   "execution_count": 13,
   "id": "8aa45ef5",
   "metadata": {},
   "outputs": [
    {
     "data": {
      "text/html": [
       "<div>\n",
       "<style scoped>\n",
       "    .dataframe tbody tr th:only-of-type {\n",
       "        vertical-align: middle;\n",
       "    }\n",
       "\n",
       "    .dataframe tbody tr th {\n",
       "        vertical-align: top;\n",
       "    }\n",
       "\n",
       "    .dataframe thead th {\n",
       "        text-align: right;\n",
       "    }\n",
       "</style>\n",
       "<table border=\"1\" class=\"dataframe\">\n",
       "  <thead>\n",
       "    <tr style=\"text-align: right;\">\n",
       "      <th></th>\n",
       "      <th>count</th>\n",
       "      <th>mean</th>\n",
       "      <th>std</th>\n",
       "      <th>min</th>\n",
       "      <th>25%</th>\n",
       "      <th>50%</th>\n",
       "      <th>75%</th>\n",
       "      <th>max</th>\n",
       "    </tr>\n",
       "  </thead>\n",
       "  <tbody>\n",
       "    <tr>\n",
       "      <th>Hydro(TWh)</th>\n",
       "      <td>20.0</td>\n",
       "      <td>151.849500</td>\n",
       "      <td>273.122956</td>\n",
       "      <td>7.2800</td>\n",
       "      <td>15.77750</td>\n",
       "      <td>43.83000</td>\n",
       "      <td>153.1325</td>\n",
       "      <td>1189.84</td>\n",
       "    </tr>\n",
       "    <tr>\n",
       "      <th>Biofuel(TWh)</th>\n",
       "      <td>20.0</td>\n",
       "      <td>51.149530</td>\n",
       "      <td>85.071233</td>\n",
       "      <td>0.0006</td>\n",
       "      <td>2.27750</td>\n",
       "      <td>18.68500</td>\n",
       "      <td>50.8725</td>\n",
       "      <td>295.02</td>\n",
       "    </tr>\n",
       "    <tr>\n",
       "      <th>Solar PV (TWh)</th>\n",
       "      <td>20.0</td>\n",
       "      <td>19.828000</td>\n",
       "      <td>23.726242</td>\n",
       "      <td>0.0200</td>\n",
       "      <td>2.44250</td>\n",
       "      <td>6.97000</td>\n",
       "      <td>35.0000</td>\n",
       "      <td>79.43</td>\n",
       "    </tr>\n",
       "    <tr>\n",
       "      <th>Geothermal (TWh)</th>\n",
       "      <td>20.0</td>\n",
       "      <td>2.667255</td>\n",
       "      <td>5.127413</td>\n",
       "      <td>0.0000</td>\n",
       "      <td>0.00000</td>\n",
       "      <td>0.06255</td>\n",
       "      <td>3.1700</td>\n",
       "      <td>18.96</td>\n",
       "    </tr>\n",
       "    <tr>\n",
       "      <th>Total (TWh)</th>\n",
       "      <td>20.0</td>\n",
       "      <td>254.826935</td>\n",
       "      <td>413.203988</td>\n",
       "      <td>12.4000</td>\n",
       "      <td>43.87515</td>\n",
       "      <td>112.03000</td>\n",
       "      <td>236.0475</td>\n",
       "      <td>1819.94</td>\n",
       "    </tr>\n",
       "  </tbody>\n",
       "</table>\n",
       "</div>"
      ],
      "text/plain": [
       "                  count        mean         std      min       25%        50%  \\\n",
       "Hydro(TWh)         20.0  151.849500  273.122956   7.2800  15.77750   43.83000   \n",
       "Biofuel(TWh)       20.0   51.149530   85.071233   0.0006   2.27750   18.68500   \n",
       "Solar PV (TWh)     20.0   19.828000   23.726242   0.0200   2.44250    6.97000   \n",
       "Geothermal (TWh)   20.0    2.667255    5.127413   0.0000   0.00000    0.06255   \n",
       "Total (TWh)        20.0  254.826935  413.203988  12.4000  43.87515  112.03000   \n",
       "\n",
       "                       75%      max  \n",
       "Hydro(TWh)        153.1325  1189.84  \n",
       "Biofuel(TWh)       50.8725   295.02  \n",
       "Solar PV (TWh)     35.0000    79.43  \n",
       "Geothermal (TWh)    3.1700    18.96  \n",
       "Total (TWh)       236.0475  1819.94  "
      ]
     },
     "execution_count": 13,
     "metadata": {},
     "output_type": "execute_result"
    }
   ],
   "source": [
    "top20CountryPowerGeneration.describe().T"
   ]
  },
  {
   "cell_type": "markdown",
   "id": "9731c183",
   "metadata": {},
   "source": [
    "# Visualization"
   ]
  },
  {
   "cell_type": "code",
   "execution_count": 14,
   "id": "1f808803",
   "metadata": {},
   "outputs": [],
   "source": [
    "import pandas as pd\n",
    "import matplotlib.pyplot as plt"
   ]
  },
  {
   "cell_type": "code",
   "execution_count": 15,
   "id": "78545647",
   "metadata": {},
   "outputs": [
    {
     "data": {
      "text/plain": [
       "(5, 6)"
      ]
     },
     "execution_count": 15,
     "metadata": {},
     "output_type": "execute_result"
    }
   ],
   "source": [
    "data_top5 = {\n",
    "    'Country': ['China', 'USA', 'Brazil', 'Canada', 'India'],\n",
    "    'Hydro(TWh)': [1189.84, 315.62, 370.90, 383.48, 141.80],\n",
    "    'Biofuel(TWh)': [295.02, 277.91, 42.37, 29.65, 51.06],\n",
    "    'Solar PV (TWh)': [79.43, 58.95, 52.25, 7.12, 43.76],\n",
    "    'Geothermal (TWh)': [0.125, 18.960, 0.000, 0.000, 0.000],\n",
    "    'Total (TWh)': [1819.940, 758.619, 466.350, 424.090, 262.650]\n",
    "}\n",
    "\n",
    "power_generation = pd.DataFrame(data_top5)\n",
    "power_generation.shape"
   ]
  },
  {
   "cell_type": "code",
   "execution_count": 16,
   "id": "9a410a86",
   "metadata": {},
   "outputs": [
    {
     "data": {
      "image/png": "[encoded data removed]",
      "text/plain": [
       "<Figure size 1000x600 with 1 Axes>"
      ]
     },
     "metadata": {},
     "output_type": "display_data"
    }
   ],
   "source": [
    "plt.figure(figsize=(10, 6))\n",
    "plt.bar(power_generation['Country'], power_generation['Total (TWh)'])\n",
    "plt.xlabel('Country')\n",
    "plt.ylabel('Total Power Generation (TWh)')\n",
    "plt.title('Total Power Generation by Country')\n",
    "plt.xticks(rotation=90)\n",
    "plt.tight_layout()\n",
    "plt.show()"
   ]
  },
  {
   "cell_type": "markdown",
   "id": "4863f19d",
   "metadata": {},
   "source": [
    "After visualization of data frame we can see that the leader in renewable power generation is China."
   ]
  },
  {
   "cell_type": "markdown",
   "id": "14a69652",
   "metadata": {},
   "source": [
    "# Top 10 Countries Solar Power Generation"
   ]
  },
  {
   "cell_type": "code",
   "execution_count": 17,
   "id": "d4b99687",
   "metadata": {},
   "outputs": [],
   "source": [
    "import pandas as pd\n",
    "import numpy as np\n",
    "import seaborn as sns\n",
    "import matplotlib.pyplot as plt"
   ]
  },
  {
   "cell_type": "code",
   "execution_count": 18,
   "id": "1a870e1f",
   "metadata": {},
   "outputs": [
    {
     "data": {
      "text/html": [
       "<div>\n",
       "<style scoped>\n",
       "    .dataframe tbody tr th:only-of-type {\n",
       "        vertical-align: middle;\n",
       "    }\n",
       "\n",
       "    .dataframe tbody tr th {\n",
       "        vertical-align: top;\n",
       "    }\n",
       "\n",
       "    .dataframe thead th {\n",
       "        text-align: right;\n",
       "    }\n",
       "</style>\n",
       "<table border=\"1\" class=\"dataframe\">\n",
       "  <thead>\n",
       "    <tr style=\"text-align: right;\">\n",
       "      <th></th>\n",
       "      <th>Country</th>\n",
       "      <th>Hydro(TWh)</th>\n",
       "      <th>Biofuel(TWh)</th>\n",
       "      <th>Solar PV (TWh)</th>\n",
       "      <th>Geothermal (TWh)</th>\n",
       "      <th>Total (TWh)</th>\n",
       "    </tr>\n",
       "  </thead>\n",
       "  <tbody>\n",
       "    <tr>\n",
       "      <th>0</th>\n",
       "      <td>China</td>\n",
       "      <td>1189.84</td>\n",
       "      <td>295.02</td>\n",
       "      <td>79.43</td>\n",
       "      <td>0.125</td>\n",
       "      <td>1819.940</td>\n",
       "    </tr>\n",
       "    <tr>\n",
       "      <th>1</th>\n",
       "      <td>USA</td>\n",
       "      <td>315.62</td>\n",
       "      <td>277.91</td>\n",
       "      <td>58.95</td>\n",
       "      <td>18.960</td>\n",
       "      <td>758.619</td>\n",
       "    </tr>\n",
       "    <tr>\n",
       "      <th>2</th>\n",
       "      <td>Brazil</td>\n",
       "      <td>370.90</td>\n",
       "      <td>42.37</td>\n",
       "      <td>52.25</td>\n",
       "      <td>0.000</td>\n",
       "      <td>466.350</td>\n",
       "    </tr>\n",
       "    <tr>\n",
       "      <th>3</th>\n",
       "      <td>Canada</td>\n",
       "      <td>383.48</td>\n",
       "      <td>29.65</td>\n",
       "      <td>7.12</td>\n",
       "      <td>0.000</td>\n",
       "      <td>424.090</td>\n",
       "    </tr>\n",
       "    <tr>\n",
       "      <th>4</th>\n",
       "      <td>India</td>\n",
       "      <td>141.80</td>\n",
       "      <td>51.06</td>\n",
       "      <td>43.76</td>\n",
       "      <td>0.000</td>\n",
       "      <td>262.650</td>\n",
       "    </tr>\n",
       "    <tr>\n",
       "      <th>5</th>\n",
       "      <td>Germany</td>\n",
       "      <td>24.17</td>\n",
       "      <td>111.59</td>\n",
       "      <td>45.10</td>\n",
       "      <td>0.160</td>\n",
       "      <td>227.180</td>\n",
       "    </tr>\n",
       "    <tr>\n",
       "      <th>6</th>\n",
       "      <td>Russia</td>\n",
       "      <td>187.13</td>\n",
       "      <td>0.14</td>\n",
       "      <td>0.08</td>\n",
       "      <td>0.430</td>\n",
       "      <td>188.330</td>\n",
       "    </tr>\n",
       "    <tr>\n",
       "      <th>7</th>\n",
       "      <td>Japan</td>\n",
       "      <td>90.67</td>\n",
       "      <td>7.63</td>\n",
       "      <td>19.01</td>\n",
       "      <td>2.440</td>\n",
       "      <td>187.349</td>\n",
       "    </tr>\n",
       "    <tr>\n",
       "      <th>8</th>\n",
       "      <td>France</td>\n",
       "      <td>70.13</td>\n",
       "      <td>28.50</td>\n",
       "      <td>5.87</td>\n",
       "      <td>0.130</td>\n",
       "      <td>114.820</td>\n",
       "    </tr>\n",
       "    <tr>\n",
       "      <th>9</th>\n",
       "      <td>Italy</td>\n",
       "      <td>50.92</td>\n",
       "      <td>17.49</td>\n",
       "      <td>16.85</td>\n",
       "      <td>6.080</td>\n",
       "      <td>113.990</td>\n",
       "    </tr>\n",
       "  </tbody>\n",
       "</table>\n",
       "</div>"
      ],
      "text/plain": [
       "   Country  Hydro(TWh)  Biofuel(TWh)  Solar PV (TWh)  Geothermal (TWh)  \\\n",
       "0    China     1189.84        295.02           79.43             0.125   \n",
       "1      USA      315.62        277.91           58.95            18.960   \n",
       "2   Brazil      370.90         42.37           52.25             0.000   \n",
       "3   Canada      383.48         29.65            7.12             0.000   \n",
       "4    India      141.80         51.06           43.76             0.000   \n",
       "5  Germany       24.17        111.59           45.10             0.160   \n",
       "6   Russia      187.13          0.14            0.08             0.430   \n",
       "7    Japan       90.67          7.63           19.01             2.440   \n",
       "8   France       70.13         28.50            5.87             0.130   \n",
       "9    Italy       50.92         17.49           16.85             6.080   \n",
       "\n",
       "   Total (TWh)  \n",
       "0     1819.940  \n",
       "1      758.619  \n",
       "2      466.350  \n",
       "3      424.090  \n",
       "4      262.650  \n",
       "5      227.180  \n",
       "6      188.330  \n",
       "7      187.349  \n",
       "8      114.820  \n",
       "9      113.990  "
      ]
     },
     "execution_count": 18,
     "metadata": {},
     "output_type": "execute_result"
    }
   ],
   "source": [
    "top20CountryPowerGeneration.head(10)"
   ]
  },
  {
   "cell_type": "code",
   "execution_count": 19,
   "id": "1bf7ddd3",
   "metadata": {},
   "outputs": [
    {
     "data": {
      "text/plain": [
       "(10, 2)"
      ]
     },
     "execution_count": 19,
     "metadata": {},
     "output_type": "execute_result"
    }
   ],
   "source": [
    "top10SolarPoverGeneration = {\n",
    "    'Country': ['China', 'USA', 'Brazil', 'Canada', 'India', 'Germany', 'Russia', 'Japan', 'France', 'Italy'],\n",
    "    'Solar PV (TWh)': [79.43, 58.95, 52.25, 7.12, 43.76, 45.10, 0.08, 19.01, 5.87, 16.85]\n",
    "}\n",
    "\n",
    "Solarpower_generation = pd.DataFrame(top10SolarPoverGeneration)\n",
    "Solarpower_generation.shape"
   ]
  },
  {
   "cell_type": "code",
   "execution_count": 20,
   "id": "c235586c",
   "metadata": {},
   "outputs": [],
   "source": [
    "Solarpower_generation_sorted = Solarpower_generation.sort_values(by='Solar PV (TWh)', ascending=False)\n"
   ]
  },
  {
   "cell_type": "code",
   "execution_count": 21,
   "id": "a32548c0",
   "metadata": {},
   "outputs": [
    {
     "data": {
      "image/png": "[encoded data removed]",
      "text/plain": [
       "<Figure size 800x600 with 1 Axes>"
      ]
     },
     "metadata": {},
     "output_type": "display_data"
    }
   ],
   "source": [
    "plt.figure(figsize=(8, 6))\n",
    "plt.bar(Solarpower_generation_sorted ['Country'], Solarpower_generation_sorted ['Solar PV (TWh)'])\n",
    "plt.xlabel('Country')\n",
    "plt.ylabel('Solar Power Generation (TWh)')\n",
    "plt.title('Solar Power Generation by Country')\n",
    "plt.xticks(rotation=90)\n",
    "plt.tight_layout()\n",
    "plt.show()"
   ]
  },
  {
   "cell_type": "markdown",
   "id": "15b88555",
   "metadata": {},
   "source": [
    "The position of the first three leading countries in renewable power generation  (China, USA, Brazil) has not changed compared to the first bar. Canada has moved from position number four to position number eight but is still in the top 10 leaders in solar energy production. "
   ]
  },
  {
   "cell_type": "markdown",
   "id": "9ee8e452",
   "metadata": {},
   "source": [
    "# Top 10 Countries Hydro Power Generation"
   ]
  },
  {
   "cell_type": "code",
   "execution_count": 22,
   "id": "06a873a8",
   "metadata": {},
   "outputs": [],
   "source": [
    "import pandas as pd\n",
    "import numpy as np\n",
    "import seaborn as sns\n",
    "import matplotlib.pyplot as plt"
   ]
  },
  {
   "cell_type": "code",
   "execution_count": 23,
   "id": "f4c3490e",
   "metadata": {},
   "outputs": [
    {
     "data": {
      "text/html": [
       "<div>\n",
       "<style scoped>\n",
       "    .dataframe tbody tr th:only-of-type {\n",
       "        vertical-align: middle;\n",
       "    }\n",
       "\n",
       "    .dataframe tbody tr th {\n",
       "        vertical-align: top;\n",
       "    }\n",
       "\n",
       "    .dataframe thead th {\n",
       "        text-align: right;\n",
       "    }\n",
       "</style>\n",
       "<table border=\"1\" class=\"dataframe\">\n",
       "  <thead>\n",
       "    <tr style=\"text-align: right;\">\n",
       "      <th></th>\n",
       "      <th>Country</th>\n",
       "      <th>Hydro(TWh)</th>\n",
       "      <th>Biofuel(TWh)</th>\n",
       "      <th>Solar PV (TWh)</th>\n",
       "      <th>Geothermal (TWh)</th>\n",
       "      <th>Total (TWh)</th>\n",
       "    </tr>\n",
       "  </thead>\n",
       "  <tbody>\n",
       "    <tr>\n",
       "      <th>0</th>\n",
       "      <td>China</td>\n",
       "      <td>1189.84</td>\n",
       "      <td>295.02</td>\n",
       "      <td>79.43</td>\n",
       "      <td>0.125</td>\n",
       "      <td>1819.940</td>\n",
       "    </tr>\n",
       "    <tr>\n",
       "      <th>1</th>\n",
       "      <td>USA</td>\n",
       "      <td>315.62</td>\n",
       "      <td>277.91</td>\n",
       "      <td>58.95</td>\n",
       "      <td>18.960</td>\n",
       "      <td>758.619</td>\n",
       "    </tr>\n",
       "    <tr>\n",
       "      <th>2</th>\n",
       "      <td>Brazil</td>\n",
       "      <td>370.90</td>\n",
       "      <td>42.37</td>\n",
       "      <td>52.25</td>\n",
       "      <td>0.000</td>\n",
       "      <td>466.350</td>\n",
       "    </tr>\n",
       "    <tr>\n",
       "      <th>3</th>\n",
       "      <td>Canada</td>\n",
       "      <td>383.48</td>\n",
       "      <td>29.65</td>\n",
       "      <td>7.12</td>\n",
       "      <td>0.000</td>\n",
       "      <td>424.090</td>\n",
       "    </tr>\n",
       "    <tr>\n",
       "      <th>4</th>\n",
       "      <td>India</td>\n",
       "      <td>141.80</td>\n",
       "      <td>51.06</td>\n",
       "      <td>43.76</td>\n",
       "      <td>0.000</td>\n",
       "      <td>262.650</td>\n",
       "    </tr>\n",
       "    <tr>\n",
       "      <th>5</th>\n",
       "      <td>Germany</td>\n",
       "      <td>24.17</td>\n",
       "      <td>111.59</td>\n",
       "      <td>45.10</td>\n",
       "      <td>0.160</td>\n",
       "      <td>227.180</td>\n",
       "    </tr>\n",
       "    <tr>\n",
       "      <th>6</th>\n",
       "      <td>Russia</td>\n",
       "      <td>187.13</td>\n",
       "      <td>0.14</td>\n",
       "      <td>0.08</td>\n",
       "      <td>0.430</td>\n",
       "      <td>188.330</td>\n",
       "    </tr>\n",
       "    <tr>\n",
       "      <th>7</th>\n",
       "      <td>Japan</td>\n",
       "      <td>90.67</td>\n",
       "      <td>7.63</td>\n",
       "      <td>19.01</td>\n",
       "      <td>2.440</td>\n",
       "      <td>187.349</td>\n",
       "    </tr>\n",
       "    <tr>\n",
       "      <th>8</th>\n",
       "      <td>France</td>\n",
       "      <td>70.13</td>\n",
       "      <td>28.50</td>\n",
       "      <td>5.87</td>\n",
       "      <td>0.130</td>\n",
       "      <td>114.820</td>\n",
       "    </tr>\n",
       "    <tr>\n",
       "      <th>9</th>\n",
       "      <td>Italy</td>\n",
       "      <td>50.92</td>\n",
       "      <td>17.49</td>\n",
       "      <td>16.85</td>\n",
       "      <td>6.080</td>\n",
       "      <td>113.990</td>\n",
       "    </tr>\n",
       "  </tbody>\n",
       "</table>\n",
       "</div>"
      ],
      "text/plain": [
       "   Country  Hydro(TWh)  Biofuel(TWh)  Solar PV (TWh)  Geothermal (TWh)  \\\n",
       "0    China     1189.84        295.02           79.43             0.125   \n",
       "1      USA      315.62        277.91           58.95            18.960   \n",
       "2   Brazil      370.90         42.37           52.25             0.000   \n",
       "3   Canada      383.48         29.65            7.12             0.000   \n",
       "4    India      141.80         51.06           43.76             0.000   \n",
       "5  Germany       24.17        111.59           45.10             0.160   \n",
       "6   Russia      187.13          0.14            0.08             0.430   \n",
       "7    Japan       90.67          7.63           19.01             2.440   \n",
       "8   France       70.13         28.50            5.87             0.130   \n",
       "9    Italy       50.92         17.49           16.85             6.080   \n",
       "\n",
       "   Total (TWh)  \n",
       "0     1819.940  \n",
       "1      758.619  \n",
       "2      466.350  \n",
       "3      424.090  \n",
       "4      262.650  \n",
       "5      227.180  \n",
       "6      188.330  \n",
       "7      187.349  \n",
       "8      114.820  \n",
       "9      113.990  "
      ]
     },
     "execution_count": 23,
     "metadata": {},
     "output_type": "execute_result"
    }
   ],
   "source": [
    "top20CountryPowerGeneration.head(10)"
   ]
  },
  {
   "cell_type": "code",
   "execution_count": 24,
   "id": "9c859a47",
   "metadata": {},
   "outputs": [
    {
     "data": {
      "text/plain": [
       "(10, 2)"
      ]
     },
     "execution_count": 24,
     "metadata": {},
     "output_type": "execute_result"
    }
   ],
   "source": [
    "top10HydroPowerGeneration = {\n",
    "    'Country': ['China', 'USA', 'Brazil', 'Canada', 'India', 'Germany', 'Russia', 'Japan', 'France', 'Italy'],\n",
    "    'Hydro(TWh)': [1189.84, 315.62, 370.90, 383.48, 141.80, 24.17, 187.13, 90.67, 70.13, 50.92]\n",
    "}\n",
    "\n",
    "Hydropower_generation = pd.DataFrame(top10HydroPowerGeneration)\n",
    "Hydropower_generation.shape"
   ]
  },
  {
   "cell_type": "code",
   "execution_count": 25,
   "id": "3194f636",
   "metadata": {},
   "outputs": [],
   "source": [
    "Hydropower_generation_sorted = Hydropower_generation.sort_values(by='Hydro(TWh)', ascending=False)"
   ]
  },
  {
   "cell_type": "code",
   "execution_count": 26,
   "id": "fbcf685b",
   "metadata": {},
   "outputs": [
    {
     "data": {
      "image/png": "[encoded data removed]",
      "text/plain": [
       "<Figure size 800x600 with 1 Axes>"
      ]
     },
     "metadata": {},
     "output_type": "display_data"
    }
   ],
   "source": [
    "plt.figure(figsize=(8,6))\n",
    "plt.bar(Hydropower_generation_sorted['Country'], Hydropower_generation_sorted['Hydro(TWh)'])\n",
    "plt.xlabel('Country')\n",
    "plt.ylabel('Hydro Power Generation (TWh)')\n",
    "plt.title('Hydro Power Generation by Country')\n",
    "plt.xticks(rotation=90)\n",
    "plt.tight_layout()\n",
    "plt.show()"
   ]
  },
  {
   "cell_type": "code",
   "execution_count": null,
   "id": "f328b89e",
   "metadata": {},
   "outputs": [],
   "source": []
  },
  {
   "cell_type": "markdown",
   "id": "2f8836f1",
   "metadata": {},
   "source": [
    "# Top 10 Countries Biofuel Power Generation¶"
   ]
  },
  {
   "cell_type": "code",
   "execution_count": 27,
   "id": "f784b3b4",
   "metadata": {},
   "outputs": [],
   "source": [
    "import pandas as pd\n",
    "import numpy as np\n",
    "import seaborn as sns\n",
    "import matplotlib.pyplot as plt"
   ]
  },
  {
   "cell_type": "code",
   "execution_count": 28,
   "id": "b179aa14",
   "metadata": {},
   "outputs": [
    {
     "data": {
      "text/html": [
       "<div>\n",
       "<style scoped>\n",
       "    .dataframe tbody tr th:only-of-type {\n",
       "        vertical-align: middle;\n",
       "    }\n",
       "\n",
       "    .dataframe tbody tr th {\n",
       "        vertical-align: top;\n",
       "    }\n",
       "\n",
       "    .dataframe thead th {\n",
       "        text-align: right;\n",
       "    }\n",
       "</style>\n",
       "<table border=\"1\" class=\"dataframe\">\n",
       "  <thead>\n",
       "    <tr style=\"text-align: right;\">\n",
       "      <th></th>\n",
       "      <th>Country</th>\n",
       "      <th>Hydro(TWh)</th>\n",
       "      <th>Biofuel(TWh)</th>\n",
       "      <th>Solar PV (TWh)</th>\n",
       "      <th>Geothermal (TWh)</th>\n",
       "      <th>Total (TWh)</th>\n",
       "    </tr>\n",
       "  </thead>\n",
       "  <tbody>\n",
       "    <tr>\n",
       "      <th>0</th>\n",
       "      <td>China</td>\n",
       "      <td>1189.84</td>\n",
       "      <td>295.02</td>\n",
       "      <td>79.43</td>\n",
       "      <td>0.125</td>\n",
       "      <td>1819.940</td>\n",
       "    </tr>\n",
       "    <tr>\n",
       "      <th>1</th>\n",
       "      <td>USA</td>\n",
       "      <td>315.62</td>\n",
       "      <td>277.91</td>\n",
       "      <td>58.95</td>\n",
       "      <td>18.960</td>\n",
       "      <td>758.619</td>\n",
       "    </tr>\n",
       "    <tr>\n",
       "      <th>2</th>\n",
       "      <td>Brazil</td>\n",
       "      <td>370.90</td>\n",
       "      <td>42.37</td>\n",
       "      <td>52.25</td>\n",
       "      <td>0.000</td>\n",
       "      <td>466.350</td>\n",
       "    </tr>\n",
       "    <tr>\n",
       "      <th>3</th>\n",
       "      <td>Canada</td>\n",
       "      <td>383.48</td>\n",
       "      <td>29.65</td>\n",
       "      <td>7.12</td>\n",
       "      <td>0.000</td>\n",
       "      <td>424.090</td>\n",
       "    </tr>\n",
       "    <tr>\n",
       "      <th>4</th>\n",
       "      <td>India</td>\n",
       "      <td>141.80</td>\n",
       "      <td>51.06</td>\n",
       "      <td>43.76</td>\n",
       "      <td>0.000</td>\n",
       "      <td>262.650</td>\n",
       "    </tr>\n",
       "    <tr>\n",
       "      <th>5</th>\n",
       "      <td>Germany</td>\n",
       "      <td>24.17</td>\n",
       "      <td>111.59</td>\n",
       "      <td>45.10</td>\n",
       "      <td>0.160</td>\n",
       "      <td>227.180</td>\n",
       "    </tr>\n",
       "    <tr>\n",
       "      <th>6</th>\n",
       "      <td>Russia</td>\n",
       "      <td>187.13</td>\n",
       "      <td>0.14</td>\n",
       "      <td>0.08</td>\n",
       "      <td>0.430</td>\n",
       "      <td>188.330</td>\n",
       "    </tr>\n",
       "    <tr>\n",
       "      <th>7</th>\n",
       "      <td>Japan</td>\n",
       "      <td>90.67</td>\n",
       "      <td>7.63</td>\n",
       "      <td>19.01</td>\n",
       "      <td>2.440</td>\n",
       "      <td>187.349</td>\n",
       "    </tr>\n",
       "    <tr>\n",
       "      <th>8</th>\n",
       "      <td>France</td>\n",
       "      <td>70.13</td>\n",
       "      <td>28.50</td>\n",
       "      <td>5.87</td>\n",
       "      <td>0.130</td>\n",
       "      <td>114.820</td>\n",
       "    </tr>\n",
       "    <tr>\n",
       "      <th>9</th>\n",
       "      <td>Italy</td>\n",
       "      <td>50.92</td>\n",
       "      <td>17.49</td>\n",
       "      <td>16.85</td>\n",
       "      <td>6.080</td>\n",
       "      <td>113.990</td>\n",
       "    </tr>\n",
       "  </tbody>\n",
       "</table>\n",
       "</div>"
      ],
      "text/plain": [
       "   Country  Hydro(TWh)  Biofuel(TWh)  Solar PV (TWh)  Geothermal (TWh)  \\\n",
       "0    China     1189.84        295.02           79.43             0.125   \n",
       "1      USA      315.62        277.91           58.95            18.960   \n",
       "2   Brazil      370.90         42.37           52.25             0.000   \n",
       "3   Canada      383.48         29.65            7.12             0.000   \n",
       "4    India      141.80         51.06           43.76             0.000   \n",
       "5  Germany       24.17        111.59           45.10             0.160   \n",
       "6   Russia      187.13          0.14            0.08             0.430   \n",
       "7    Japan       90.67          7.63           19.01             2.440   \n",
       "8   France       70.13         28.50            5.87             0.130   \n",
       "9    Italy       50.92         17.49           16.85             6.080   \n",
       "\n",
       "   Total (TWh)  \n",
       "0     1819.940  \n",
       "1      758.619  \n",
       "2      466.350  \n",
       "3      424.090  \n",
       "4      262.650  \n",
       "5      227.180  \n",
       "6      188.330  \n",
       "7      187.349  \n",
       "8      114.820  \n",
       "9      113.990  "
      ]
     },
     "execution_count": 28,
     "metadata": {},
     "output_type": "execute_result"
    }
   ],
   "source": [
    "top20CountryPowerGeneration.head(10)"
   ]
  },
  {
   "cell_type": "code",
   "execution_count": 29,
   "id": "e833a160",
   "metadata": {},
   "outputs": [
    {
     "data": {
      "text/plain": [
       "(10, 2)"
      ]
     },
     "execution_count": 29,
     "metadata": {},
     "output_type": "execute_result"
    }
   ],
   "source": [
    "top10BiofuelPowerGeneration = {\n",
    "    'Country': ['China', 'USA', 'Brazil', 'Canada', 'India', 'Germany', 'Russia', 'Japan', 'France', 'Italy'],\n",
    "    'Biofuel(TWh)':[295.02, 277.91, 42.37, 29.65, 51.06, 111.59, 0.14, 7.63, 28.50, 17.49] \n",
    "}\n",
    "\n",
    "Biofuelpower_generation = pd.DataFrame(top10BiofuelPowerGeneration)\n",
    "Biofuelpower_generation.shape"
   ]
  },
  {
   "cell_type": "code",
   "execution_count": 30,
   "id": "d5477bdf",
   "metadata": {},
   "outputs": [],
   "source": [
    "Biofuelpower_generation_sorted = Biofuelpower_generation.sort_values(by='Biofuel(TWh)', ascending=False)"
   ]
  },
  {
   "cell_type": "code",
   "execution_count": 31,
   "id": "b6926a23",
   "metadata": {},
   "outputs": [
    {
     "data": {
      "image/png": "[encoded data removed]",
      "text/plain": [
       "<Figure size 800x600 with 1 Axes>"
      ]
     },
     "metadata": {},
     "output_type": "display_data"
    }
   ],
   "source": [
    "plt.figure(figsize=(8,6))\n",
    "plt.bar(Biofuelpower_generation_sorted['Country'], Biofuelpower_generation_sorted['Biofuel(TWh)'])\n",
    "plt.xlabel('Country')\n",
    "plt.ylabel('Biofuel Power Generation (TWh)')\n",
    "plt.title('Biofuel Power Generation by Country')\n",
    "plt.xticks(rotation=90)\n",
    "plt.tight_layout()\n",
    "plt.show()"
   ]
  },
  {
   "cell_type": "code",
   "execution_count": null,
   "id": "eea8eca5",
   "metadata": {},
   "outputs": [],
   "source": []
  },
  {
   "cell_type": "markdown",
   "id": "9f942184",
   "metadata": {},
   "source": [
    "# Top 10 Countries Geothermal Power Generation¶"
   ]
  },
  {
   "cell_type": "code",
   "execution_count": 32,
   "id": "52cb0db0",
   "metadata": {},
   "outputs": [],
   "source": [
    "import pandas as pd\n",
    "import numpy as np\n",
    "import seaborn as sns\n",
    "import matplotlib.pyplot as plt"
   ]
  },
  {
   "cell_type": "code",
   "execution_count": 33,
   "id": "2c55ca51",
   "metadata": {},
   "outputs": [
    {
     "data": {
      "text/html": [
       "<div>\n",
       "<style scoped>\n",
       "    .dataframe tbody tr th:only-of-type {\n",
       "        vertical-align: middle;\n",
       "    }\n",
       "\n",
       "    .dataframe tbody tr th {\n",
       "        vertical-align: top;\n",
       "    }\n",
       "\n",
       "    .dataframe thead th {\n",
       "        text-align: right;\n",
       "    }\n",
       "</style>\n",
       "<table border=\"1\" class=\"dataframe\">\n",
       "  <thead>\n",
       "    <tr style=\"text-align: right;\">\n",
       "      <th></th>\n",
       "      <th>Country</th>\n",
       "      <th>Hydro(TWh)</th>\n",
       "      <th>Biofuel(TWh)</th>\n",
       "      <th>Solar PV (TWh)</th>\n",
       "      <th>Geothermal (TWh)</th>\n",
       "      <th>Total (TWh)</th>\n",
       "    </tr>\n",
       "  </thead>\n",
       "  <tbody>\n",
       "    <tr>\n",
       "      <th>0</th>\n",
       "      <td>China</td>\n",
       "      <td>1189.84</td>\n",
       "      <td>295.0200</td>\n",
       "      <td>79.43</td>\n",
       "      <td>0.1250</td>\n",
       "      <td>1819.9400</td>\n",
       "    </tr>\n",
       "    <tr>\n",
       "      <th>1</th>\n",
       "      <td>USA</td>\n",
       "      <td>315.62</td>\n",
       "      <td>277.9100</td>\n",
       "      <td>58.95</td>\n",
       "      <td>18.9600</td>\n",
       "      <td>758.6190</td>\n",
       "    </tr>\n",
       "    <tr>\n",
       "      <th>2</th>\n",
       "      <td>Brazil</td>\n",
       "      <td>370.90</td>\n",
       "      <td>42.3700</td>\n",
       "      <td>52.25</td>\n",
       "      <td>0.0000</td>\n",
       "      <td>466.3500</td>\n",
       "    </tr>\n",
       "    <tr>\n",
       "      <th>3</th>\n",
       "      <td>Canada</td>\n",
       "      <td>383.48</td>\n",
       "      <td>29.6500</td>\n",
       "      <td>7.12</td>\n",
       "      <td>0.0000</td>\n",
       "      <td>424.0900</td>\n",
       "    </tr>\n",
       "    <tr>\n",
       "      <th>4</th>\n",
       "      <td>India</td>\n",
       "      <td>141.80</td>\n",
       "      <td>51.0600</td>\n",
       "      <td>43.76</td>\n",
       "      <td>0.0000</td>\n",
       "      <td>262.6500</td>\n",
       "    </tr>\n",
       "    <tr>\n",
       "      <th>5</th>\n",
       "      <td>Germany</td>\n",
       "      <td>24.17</td>\n",
       "      <td>111.5900</td>\n",
       "      <td>45.10</td>\n",
       "      <td>0.1600</td>\n",
       "      <td>227.1800</td>\n",
       "    </tr>\n",
       "    <tr>\n",
       "      <th>6</th>\n",
       "      <td>Russia</td>\n",
       "      <td>187.13</td>\n",
       "      <td>0.1400</td>\n",
       "      <td>0.08</td>\n",
       "      <td>0.4300</td>\n",
       "      <td>188.3300</td>\n",
       "    </tr>\n",
       "    <tr>\n",
       "      <th>7</th>\n",
       "      <td>Japan</td>\n",
       "      <td>90.67</td>\n",
       "      <td>7.6300</td>\n",
       "      <td>19.01</td>\n",
       "      <td>2.4400</td>\n",
       "      <td>187.3490</td>\n",
       "    </tr>\n",
       "    <tr>\n",
       "      <th>8</th>\n",
       "      <td>France</td>\n",
       "      <td>70.13</td>\n",
       "      <td>28.5000</td>\n",
       "      <td>5.87</td>\n",
       "      <td>0.1300</td>\n",
       "      <td>114.8200</td>\n",
       "    </tr>\n",
       "    <tr>\n",
       "      <th>9</th>\n",
       "      <td>Italy</td>\n",
       "      <td>50.92</td>\n",
       "      <td>17.4900</td>\n",
       "      <td>16.85</td>\n",
       "      <td>6.0800</td>\n",
       "      <td>113.9900</td>\n",
       "    </tr>\n",
       "    <tr>\n",
       "      <th>10</th>\n",
       "      <td>UK</td>\n",
       "      <td>7.96</td>\n",
       "      <td>57.1100</td>\n",
       "      <td>32.08</td>\n",
       "      <td>0.0000</td>\n",
       "      <td>110.0700</td>\n",
       "    </tr>\n",
       "    <tr>\n",
       "      <th>11</th>\n",
       "      <td>Spain</td>\n",
       "      <td>36.74</td>\n",
       "      <td>50.8100</td>\n",
       "      <td>5.48</td>\n",
       "      <td>0.0000</td>\n",
       "      <td>100.5400</td>\n",
       "    </tr>\n",
       "    <tr>\n",
       "      <th>12</th>\n",
       "      <td>Turkey</td>\n",
       "      <td>59.74</td>\n",
       "      <td>19.8800</td>\n",
       "      <td>2.63</td>\n",
       "      <td>6.9000</td>\n",
       "      <td>96.6200</td>\n",
       "    </tr>\n",
       "    <tr>\n",
       "      <th>13</th>\n",
       "      <td>Mexico</td>\n",
       "      <td>32.52</td>\n",
       "      <td>13.0700</td>\n",
       "      <td>1.88</td>\n",
       "      <td>5.3600</td>\n",
       "      <td>56.0200</td>\n",
       "    </tr>\n",
       "    <tr>\n",
       "      <th>14</th>\n",
       "      <td>Australia</td>\n",
       "      <td>16.02</td>\n",
       "      <td>15.1700</td>\n",
       "      <td>3.51</td>\n",
       "      <td>0.0000</td>\n",
       "      <td>44.6200</td>\n",
       "    </tr>\n",
       "    <tr>\n",
       "      <th>15</th>\n",
       "      <td>Indonesia</td>\n",
       "      <td>18.63</td>\n",
       "      <td>0.0006</td>\n",
       "      <td>0.23</td>\n",
       "      <td>12.7600</td>\n",
       "      <td>41.6406</td>\n",
       "    </tr>\n",
       "    <tr>\n",
       "      <th>16</th>\n",
       "      <td>Thailand</td>\n",
       "      <td>9.52</td>\n",
       "      <td>1.1000</td>\n",
       "      <td>15.38</td>\n",
       "      <td>0.0001</td>\n",
       "      <td>30.5401</td>\n",
       "    </tr>\n",
       "    <tr>\n",
       "      <th>17</th>\n",
       "      <td>South Korea</td>\n",
       "      <td>7.28</td>\n",
       "      <td>2.4600</td>\n",
       "      <td>6.82</td>\n",
       "      <td>0.0000</td>\n",
       "      <td>25.3200</td>\n",
       "    </tr>\n",
       "    <tr>\n",
       "      <th>18</th>\n",
       "      <td>Iran</td>\n",
       "      <td>15.05</td>\n",
       "      <td>0.3000</td>\n",
       "      <td>0.02</td>\n",
       "      <td>0.0000</td>\n",
       "      <td>15.4500</td>\n",
       "    </tr>\n",
       "    <tr>\n",
       "      <th>19</th>\n",
       "      <td>Taiwan</td>\n",
       "      <td>8.87</td>\n",
       "      <td>1.7300</td>\n",
       "      <td>0.11</td>\n",
       "      <td>0.0000</td>\n",
       "      <td>12.4000</td>\n",
       "    </tr>\n",
       "  </tbody>\n",
       "</table>\n",
       "</div>"
      ],
      "text/plain": [
       "        Country  Hydro(TWh)  Biofuel(TWh)  Solar PV (TWh)  Geothermal (TWh)  \\\n",
       "0         China     1189.84      295.0200           79.43            0.1250   \n",
       "1           USA      315.62      277.9100           58.95           18.9600   \n",
       "2        Brazil      370.90       42.3700           52.25            0.0000   \n",
       "3        Canada      383.48       29.6500            7.12            0.0000   \n",
       "4         India      141.80       51.0600           43.76            0.0000   \n",
       "5       Germany       24.17      111.5900           45.10            0.1600   \n",
       "6        Russia      187.13        0.1400            0.08            0.4300   \n",
       "7         Japan       90.67        7.6300           19.01            2.4400   \n",
       "8        France       70.13       28.5000            5.87            0.1300   \n",
       "9         Italy       50.92       17.4900           16.85            6.0800   \n",
       "10           UK        7.96       57.1100           32.08            0.0000   \n",
       "11        Spain       36.74       50.8100            5.48            0.0000   \n",
       "12       Turkey       59.74       19.8800            2.63            6.9000   \n",
       "13       Mexico       32.52       13.0700            1.88            5.3600   \n",
       "14    Australia       16.02       15.1700            3.51            0.0000   \n",
       "15    Indonesia       18.63        0.0006            0.23           12.7600   \n",
       "16     Thailand        9.52        1.1000           15.38            0.0001   \n",
       "17  South Korea        7.28        2.4600            6.82            0.0000   \n",
       "18         Iran       15.05        0.3000            0.02            0.0000   \n",
       "19       Taiwan        8.87        1.7300            0.11            0.0000   \n",
       "\n",
       "    Total (TWh)  \n",
       "0     1819.9400  \n",
       "1      758.6190  \n",
       "2      466.3500  \n",
       "3      424.0900  \n",
       "4      262.6500  \n",
       "5      227.1800  \n",
       "6      188.3300  \n",
       "7      187.3490  \n",
       "8      114.8200  \n",
       "9      113.9900  \n",
       "10     110.0700  \n",
       "11     100.5400  \n",
       "12      96.6200  \n",
       "13      56.0200  \n",
       "14      44.6200  \n",
       "15      41.6406  \n",
       "16      30.5401  \n",
       "17      25.3200  \n",
       "18      15.4500  \n",
       "19      12.4000  "
      ]
     },
     "execution_count": 33,
     "metadata": {},
     "output_type": "execute_result"
    }
   ],
   "source": [
    "top20CountryPowerGeneration.head(20)"
   ]
  },
  {
   "cell_type": "code",
   "execution_count": 34,
   "id": "d1781ccd",
   "metadata": {},
   "outputs": [
    {
     "data": {
      "text/plain": [
       "(10, 2)"
      ]
     },
     "execution_count": 34,
     "metadata": {},
     "output_type": "execute_result"
    }
   ],
   "source": [
    "top10GeothermalPowerGeneration = {\n",
    "    'Country': ['China', 'USA', 'Germany', 'Russia', 'Japan', 'France', 'Italy', 'Turkey', 'Mexico', 'Indonesia'],\n",
    "    'Geothermal(TWh)':[0.1250, 18.9600, 0.1600, 0.4300, 24400, 0.1300, 6.0800, 6.9000, 5.3600, 12.7600] \n",
    "}\n",
    "\n",
    "Geothermalpower_generation = pd.DataFrame(top10GeothermalPowerGeneration)\n",
    "Geothermalpower_generation.shape"
   ]
  },
  {
   "cell_type": "code",
   "execution_count": 35,
   "id": "866e7851",
   "metadata": {},
   "outputs": [],
   "source": [
    "Geothermalpower_generation_sorted = Geothermalpower_generation.sort_values(by='Geothermal(TWh)', ascending=False)"
   ]
  },
  {
   "cell_type": "code",
   "execution_count": 36,
   "id": "ce141bd4",
   "metadata": {},
   "outputs": [
    {
     "data": {
      "image/png": "[encoded data removed]",
      "text/plain": [
       "<Figure size 800x600 with 1 Axes>"
      ]
     },
     "metadata": {},
     "output_type": "display_data"
    }
   ],
   "source": [
    "plt.figure(figsize=(8,6))\n",
    "plt.bar(Geothermalpower_generation_sorted['Country'], Geothermalpower_generation_sorted['Geothermal(TWh)'])\n",
    "plt.xlabel('Country')\n",
    "plt.ylabel('Geothermal Power Generation (TWh)')\n",
    "plt.title('Geothermal Power Generation by Country')\n",
    "plt.xticks(rotation=90)\n",
    "plt.tight_layout()\n",
    "plt.show()"
   ]
  },
  {
   "cell_type": "markdown",
   "id": "87043d8f",
   "metadata": {},
   "source": [
    "Japan is the leader in Geothermal power generation. Other countries do not pay much attention to this type of renewable energy. "
   ]
  },
  {
   "cell_type": "markdown",
   "id": "6234ef13",
   "metadata": {},
   "source": [
    "# Building a pie chart of total Renewable Power Generation by country\n"
   ]
  },
  {
   "cell_type": "code",
   "execution_count": 41,
   "id": "551108c2",
   "metadata": {},
   "outputs": [],
   "source": [
    "import pandas as pd\n",
    "import numpy as np\n",
    "import matplotlib.pyplot as plt"
   ]
  },
  {
   "cell_type": "code",
   "execution_count": 42,
   "id": "a5f0c491",
   "metadata": {},
   "outputs": [
    {
     "data": {
      "text/html": [
       "<div>\n",
       "<style scoped>\n",
       "    .dataframe tbody tr th:only-of-type {\n",
       "        vertical-align: middle;\n",
       "    }\n",
       "\n",
       "    .dataframe tbody tr th {\n",
       "        vertical-align: top;\n",
       "    }\n",
       "\n",
       "    .dataframe thead th {\n",
       "        text-align: right;\n",
       "    }\n",
       "</style>\n",
       "<table border=\"1\" class=\"dataframe\">\n",
       "  <thead>\n",
       "    <tr style=\"text-align: right;\">\n",
       "      <th></th>\n",
       "      <th>Country</th>\n",
       "      <th>Hydro(TWh)</th>\n",
       "      <th>Biofuel(TWh)</th>\n",
       "      <th>Solar PV (TWh)</th>\n",
       "      <th>Geothermal (TWh)</th>\n",
       "      <th>Total (TWh)</th>\n",
       "    </tr>\n",
       "  </thead>\n",
       "  <tbody>\n",
       "    <tr>\n",
       "      <th>0</th>\n",
       "      <td>China</td>\n",
       "      <td>1189.84</td>\n",
       "      <td>295.02</td>\n",
       "      <td>79.43</td>\n",
       "      <td>0.125</td>\n",
       "      <td>1819.940</td>\n",
       "    </tr>\n",
       "    <tr>\n",
       "      <th>1</th>\n",
       "      <td>USA</td>\n",
       "      <td>315.62</td>\n",
       "      <td>277.91</td>\n",
       "      <td>58.95</td>\n",
       "      <td>18.960</td>\n",
       "      <td>758.619</td>\n",
       "    </tr>\n",
       "    <tr>\n",
       "      <th>2</th>\n",
       "      <td>Brazil</td>\n",
       "      <td>370.90</td>\n",
       "      <td>42.37</td>\n",
       "      <td>52.25</td>\n",
       "      <td>0.000</td>\n",
       "      <td>466.350</td>\n",
       "    </tr>\n",
       "    <tr>\n",
       "      <th>3</th>\n",
       "      <td>Canada</td>\n",
       "      <td>383.48</td>\n",
       "      <td>29.65</td>\n",
       "      <td>7.12</td>\n",
       "      <td>0.000</td>\n",
       "      <td>424.090</td>\n",
       "    </tr>\n",
       "    <tr>\n",
       "      <th>4</th>\n",
       "      <td>India</td>\n",
       "      <td>141.80</td>\n",
       "      <td>51.06</td>\n",
       "      <td>43.76</td>\n",
       "      <td>0.000</td>\n",
       "      <td>262.650</td>\n",
       "    </tr>\n",
       "    <tr>\n",
       "      <th>5</th>\n",
       "      <td>Germany</td>\n",
       "      <td>24.17</td>\n",
       "      <td>111.59</td>\n",
       "      <td>45.10</td>\n",
       "      <td>0.160</td>\n",
       "      <td>227.180</td>\n",
       "    </tr>\n",
       "    <tr>\n",
       "      <th>6</th>\n",
       "      <td>Russia</td>\n",
       "      <td>187.13</td>\n",
       "      <td>0.14</td>\n",
       "      <td>0.08</td>\n",
       "      <td>0.430</td>\n",
       "      <td>188.330</td>\n",
       "    </tr>\n",
       "    <tr>\n",
       "      <th>7</th>\n",
       "      <td>Japan</td>\n",
       "      <td>90.67</td>\n",
       "      <td>7.63</td>\n",
       "      <td>19.01</td>\n",
       "      <td>2.440</td>\n",
       "      <td>187.349</td>\n",
       "    </tr>\n",
       "    <tr>\n",
       "      <th>8</th>\n",
       "      <td>France</td>\n",
       "      <td>70.13</td>\n",
       "      <td>28.50</td>\n",
       "      <td>5.87</td>\n",
       "      <td>0.130</td>\n",
       "      <td>114.820</td>\n",
       "    </tr>\n",
       "    <tr>\n",
       "      <th>9</th>\n",
       "      <td>Italy</td>\n",
       "      <td>50.92</td>\n",
       "      <td>17.49</td>\n",
       "      <td>16.85</td>\n",
       "      <td>6.080</td>\n",
       "      <td>113.990</td>\n",
       "    </tr>\n",
       "  </tbody>\n",
       "</table>\n",
       "</div>"
      ],
      "text/plain": [
       "   Country  Hydro(TWh)  Biofuel(TWh)  Solar PV (TWh)  Geothermal (TWh)  \\\n",
       "0    China     1189.84        295.02           79.43             0.125   \n",
       "1      USA      315.62        277.91           58.95            18.960   \n",
       "2   Brazil      370.90         42.37           52.25             0.000   \n",
       "3   Canada      383.48         29.65            7.12             0.000   \n",
       "4    India      141.80         51.06           43.76             0.000   \n",
       "5  Germany       24.17        111.59           45.10             0.160   \n",
       "6   Russia      187.13          0.14            0.08             0.430   \n",
       "7    Japan       90.67          7.63           19.01             2.440   \n",
       "8   France       70.13         28.50            5.87             0.130   \n",
       "9    Italy       50.92         17.49           16.85             6.080   \n",
       "\n",
       "   Total (TWh)  \n",
       "0     1819.940  \n",
       "1      758.619  \n",
       "2      466.350  \n",
       "3      424.090  \n",
       "4      262.650  \n",
       "5      227.180  \n",
       "6      188.330  \n",
       "7      187.349  \n",
       "8      114.820  \n",
       "9      113.990  "
      ]
     },
     "execution_count": 42,
     "metadata": {},
     "output_type": "execute_result"
    }
   ],
   "source": [
    "top20CountryPowerGeneration.head(10)"
   ]
  },
  {
   "cell_type": "code",
   "execution_count": 43,
   "id": "15e79f77",
   "metadata": {},
   "outputs": [],
   "source": [
    "top10totalPowerGeneration= {\n",
    "    'Country':['China', 'USA', 'Brazil', 'Canada', 'India', 'Germany', 'Russia', 'Japan', 'France', 'Italy'],\n",
    "    'Total(TWh)':[1819.940, 758.619, 466.350, 424.090, 262.650, 227.180, 188.330, 187.349, 114.820, 113.990 ]\n",
    "}\n",
    "\n",
    "TotalPowerGenCountries = pd.DataFrame(top10totalPowerGeneration)"
   ]
  },
  {
   "cell_type": "code",
   "execution_count": 44,
   "id": "808f4f4a",
   "metadata": {},
   "outputs": [
    {
     "data": {
      "image/png": "[encoded data removed]",
      "text/plain": [
       "<Figure size 800x600 with 1 Axes>"
      ]
     },
     "metadata": {},
     "output_type": "display_data"
    }
   ],
   "source": [
    "plt.figure(figsize=(8, 6))\n",
    "plt.pie(TotalPowerGenCountries['Total(TWh)'], labels=TotalPowerGenCountries['Country'], autopct='%1.1f%%', startangle=140)\n",
    "plt.axis('equal')  \n",
    "plt.title('Total Power Generation by Country')\n",
    "plt.show()"
   ]
  },
  {
   "cell_type": "code",
   "execution_count": null,
   "id": "9158ae43",
   "metadata": {},
   "outputs": [],
   "source": []
  }
 ],
 "metadata": {
  "kernelspec": {
   "display_name": "Python 3 (ipykernel)",
   "language": "python",
   "name": "python3"
  },
  "language_info": {
   "codemirror_mode": {
    "name": "ipython",
    "version": 3
   },
   "file_extension": ".py",
   "mimetype": "text/x-python",
   "name": "python",
   "nbconvert_exporter": "python",
   "pygments_lexer": "ipython3",
   "version": "3.11.4"
  }
 },
 "nbformat": 4,
 "nbformat_minor": 5
}
